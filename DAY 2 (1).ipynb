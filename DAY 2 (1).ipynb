{
 "cells": [
  {
   "cell_type": "code",
   "execution_count": 3,
   "id": "b8ed8b9e-001e-411b-99cf-5773aa954f31",
   "metadata": {},
   "outputs": [
    {
     "name": "stdout",
     "output_type": "stream",
     "text": [
      "my age is 22 and i have completed my degree of BSC with the name of ANKUSH YADAV\n"
     ]
    }
   ],
   "source": [
    "## myownwrittencode\n",
    "name='ANKUSH YADAV'\n",
    "age=22\n",
    "degree=\"BSC\"\n",
    "print(\"my age is\",age,\"and i have completed my degree of\",degree,\"with the name of\",name)"
   ]
  },
  {
   "cell_type": "code",
   "execution_count": 6,
   "id": "af708da6-8bc9-475a-8b63-c7713fc03be1",
   "metadata": {},
   "outputs": [
    {
     "name": "stdout",
     "output_type": "stream",
     "text": [
      "my age is 22 and i have completed my degree of bsc with the name ankush yadav.\n"
     ]
    }
   ],
   "source": [
    "##classcode\n",
    "name=\"ankush yadav\"\n",
    "age=22\n",
    "degree=\"bsc\"\n",
    "print(\"my age is {} and i have completed my degree of {} with the name {}.\".format(age,degree,name))"
   ]
  },
  {
   "cell_type": "code",
   "execution_count": 9,
   "id": "4be03f28-8e72-41ba-a36a-1366589fee9e",
   "metadata": {},
   "outputs": [
    {
     "name": "stdout",
     "output_type": "stream",
     "text": [
      "my age is 22 and i have completed my degree of BSC with the name of ANKUSH YADAV\n"
     ]
    }
   ],
   "source": [
    "##written with f\n",
    "name='ANKUSH YADAV'\n",
    "age=22\n",
    "degree=\"BSC\"\n",
    "print(f\"my age is {age} and i have completed my degree of {degree} with the name of {name}\" )"
   ]
  },
  {
   "cell_type": "markdown",
   "id": "7d1e04d1-4feb-45c0-82e7-215c9a742ab3",
   "metadata": {},
   "source": [
    "#IFSTATEMENT\n",
    "\n",
    "#task1\n",
    "\n",
    "##take imput\n",
    "##check whether age>=18 and age<=45\n",
    "##display a message you are a young blood\n"
   ]
  },
  {
   "cell_type": "code",
   "execution_count": 13,
   "id": "1b8cc221-d784-4cc6-a5cb-858066035027",
   "metadata": {},
   "outputs": [
    {
     "name": "stdin",
     "output_type": "stream",
     "text": [
      "ENTER THE AGE 22\n"
     ]
    },
    {
     "name": "stdout",
     "output_type": "stream",
     "text": [
      "You Are A Young Blood\n"
     ]
    }
   ],
   "source": [
    "age=int(input(\"ENTER THE AGE\"))\n",
    "if age>=18 and age<=45:\n",
    "    print(\"You Are A Young Blood\")"
   ]
  },
  {
   "cell_type": "code",
   "execution_count": null,
   "id": "3b6fa20a-e5e7-41db-9d95-2b5e819d8a66",
   "metadata": {},
   "outputs": [],
   "source": []
  },
  {
   "cell_type": "markdown",
   "id": "bf4919c9-9d76-4abf-af92-1628b2b383de",
   "metadata": {},
   "source": [
    "#IFELSESTATEMENT\n",
    "\n",
    "##MALL\n",
    "\n",
    "##PRODUCT>1000 10% OFF\n",
    "\n",
    "##PRODUCT<1000 30%OFF\n",
    "\n",
    "##INPUT THE PRODUCT PRICE\n",
    "\n",
    "##PRINT PRODUCT PRICE AFTER THE DISCOUNT\n"
   ]
  },
  {
   "cell_type": "code",
   "execution_count": 5,
   "id": "01002c2c-92fa-437b-a8e7-3435ddf94632",
   "metadata": {},
   "outputs": [
    {
     "name": "stdin",
     "output_type": "stream",
     "text": [
      "ENTER THE PRICE 600\n"
     ]
    },
    {
     "name": "stdout",
     "output_type": "stream",
     "text": [
      "THE PRICE OF THE PRODUCT IS 420.0\n"
     ]
    }
   ],
   "source": [
    "product_p=int(input(\"ENTER THE PRICE\"))\n",
    "if product_p>=1000:\n",
    "    print(f\"THE PRICE OF THE PRODUCT IS {product_p*0.9}\")\n",
    "else:\n",
    "    print(f\"THE PRICE OF THE PRODUCT IS {product_p*0.7}\")\n",
    "    "
   ]
  },
  {
   "cell_type": "code",
   "execution_count": null,
   "id": "7257ed21-18f0-463b-922d-2736012e721b",
   "metadata": {},
   "outputs": [],
   "source": []
  },
  {
   "cell_type": "markdown",
   "id": "537b4625-1ca6-4ae7-9ba5-630c9cc09c37",
   "metadata": {
    "jp-MarkdownHeadingCollapsed": true,
    "tags": []
   },
   "source": [
    "#mall_input_the_product_price\n",
    "\n",
    "##product>=3000_20%_off\n",
    "\n",
    "##print_the_product_price_after_the_discount\n",
    "\n",
    "##product>=2000_and_<=3000_30%_off\n",
    "\n",
    "##print_the_product_price_after_the_discount\n",
    "\n",
    "##product_<=1000_and<=2000_40%_off\n"
   ]
  },
  {
   "cell_type": "code",
   "execution_count": null,
   "id": "3f57de9e-d307-4395-bc82-f54ec2f6ba3f",
   "metadata": {},
   "outputs": [],
   "source": []
  },
  {
   "cell_type": "code",
   "execution_count": 6,
   "id": "bb168e1c-3521-4935-820b-807f433a52c7",
   "metadata": {},
   "outputs": [
    {
     "name": "stdin",
     "output_type": "stream",
     "text": [
      "ENTER THE PRICE 10\n"
     ]
    },
    {
     "name": "stdout",
     "output_type": "stream",
     "text": [
      "THE PRICE OF THE PRODUCT IS 6.0\n"
     ]
    }
   ],
   "source": [
    "product=int(input(\"ENTER THE PRICE\"))\n",
    "if product>3000:\n",
    "    print(f\"THE PRICE OF THE PRODUCT IS {product*0.8}\")\n",
    "elif product>2000 and product<=3000:\n",
    "    print(f\"THE PRICE OF THE PRODUCT IS {product*0.7}\")\n",
    "else:\n",
    "    print(f\"THE PRICE OF THE PRODUCT IS {product*0.6}\")\n",
    "    \n",
    "    \n",
    "    "
   ]
  },
  {
   "cell_type": "code",
   "execution_count": null,
   "id": "aa97230c-f10e-4132-846d-cec4eb684a55",
   "metadata": {},
   "outputs": [],
   "source": []
  },
  {
   "cell_type": "code",
   "execution_count": null,
   "id": "4fc75efe-016a-4dfd-a65f-9779ba7f6ef1",
   "metadata": {},
   "outputs": [],
   "source": []
  },
  {
   "cell_type": "code",
   "execution_count": 8,
   "id": "67772c63-43f7-4787-8a60-73bd1d402144",
   "metadata": {},
   "outputs": [
    {
     "name": "stdin",
     "output_type": "stream",
     "text": [
      "ENTER THE PRICE 10\n"
     ]
    },
    {
     "name": "stdout",
     "output_type": "stream",
     "text": [
      "SINGLE HAI ME\n"
     ]
    }
   ],
   "source": [
    "product=int(input(\"ENTER THE PRICE\"))\n",
    "if product>3000:\n",
    "    if product==4000:\n",
    "        print(\"CONGRATES YoU GoT A GOA TRIP\")\n",
    "    print(f\"THE PRICE OF THE PRODUCT IS {product*0.8}\")\n",
    "elif product>2000 and product<=3000:\n",
    "    print(f\"THE PRICE OF THE PRODUCT IS {product*0.7}\")\n",
    "    if product==2999:\n",
    "        print(\"YOU WILL GET ADDITIONAL GIFT\")\n",
    "elif product<=2000 and product>=100:\n",
    "    print(f\"THE PRICE OF THE PRODUCT IS {product*0.6}\")\n",
    "else:\n",
    "        print(\"SINGLE HAI ME\")\n",
    "    \n",
    "    \n",
    "    "
   ]
  },
  {
   "cell_type": "code",
   "execution_count": null,
   "id": "bf1c8bea-d231-4175-b7d9-d44cf48b2c2a",
   "metadata": {},
   "outputs": [],
   "source": []
  },
  {
   "cell_type": "code",
   "execution_count": null,
   "id": "48e03d1e-2a0c-4308-a426-221ac067f4be",
   "metadata": {},
   "outputs": [],
   "source": []
  },
  {
   "cell_type": "code",
   "execution_count": null,
   "id": "c7fac639-572b-4499-8a03-02b32cbfb190",
   "metadata": {},
   "outputs": [],
   "source": []
  },
  {
   "cell_type": "code",
   "execution_count": null,
   "id": "437e2ffc-3b95-4ebe-9319-c7d9e18a247a",
   "metadata": {},
   "outputs": [],
   "source": []
  },
  {
   "cell_type": "code",
   "execution_count": null,
   "id": "934ec54d-fae4-4d5f-8345-10ab45846098",
   "metadata": {},
   "outputs": [],
   "source": []
  },
  {
   "cell_type": "code",
   "execution_count": null,
   "id": "6c493ecc-963d-4488-a76b-d39e1ea5970e",
   "metadata": {},
   "outputs": [],
   "source": []
  },
  {
   "cell_type": "code",
   "execution_count": null,
   "id": "4d700d15-86a8-4979-8a39-f398c294c974",
   "metadata": {},
   "outputs": [],
   "source": []
  },
  {
   "cell_type": "code",
   "execution_count": null,
   "id": "d88e4a81-ffd1-4a06-ad80-189f16e57daf",
   "metadata": {},
   "outputs": [],
   "source": []
  },
  {
   "cell_type": "code",
   "execution_count": null,
   "id": "5186bfaa-da94-4dd2-9195-3b36eb6a90e7",
   "metadata": {},
   "outputs": [],
   "source": []
  },
  {
   "cell_type": "code",
   "execution_count": null,
   "id": "f306642d-4eb3-451c-a72f-2e615df1ab2b",
   "metadata": {},
   "outputs": [],
   "source": []
  }
 ],
 "metadata": {
  "kernelspec": {
   "display_name": "Python 3 (ipykernel)",
   "language": "python",
   "name": "python3"
  },
  "language_info": {
   "codemirror_mode": {
    "name": "ipython",
    "version": 3
   },
   "file_extension": ".py",
   "mimetype": "text/x-python",
   "name": "python",
   "nbconvert_exporter": "python",
   "pygments_lexer": "ipython3",
   "version": "3.10.8"
  }
 },
 "nbformat": 4,
 "nbformat_minor": 5
}
